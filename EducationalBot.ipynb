{
 "cells": [
  {
   "cell_type": "code",
   "execution_count": 341,
   "id": "e5c8bd47",
   "metadata": {},
   "outputs": [],
   "source": [
    "import math\n",
    "import datetime\n",
    "import random\n",
    "\n",
    "#ЧАСТИНА, ЯКУ МОЖНА РЕДАГУВАТИ (ФУНКЦІЇ ОБЧИСЛЕННЯ, РАНДОМНІ КОМЕНТАРІ БОТА)\n",
    "\n",
    "\n",
    "comments = [\n",
    "    \"Цікавий вибір! \",\n",
    "    \"Тривіальний вибір 😐 \",\n",
    "    \"Супер! Я також люблю цю тему! 😍 \",\n",
    "\n",
    "    \"Чудово! \",\n",
    "    \"Прекрасний вибір! \",\n",
    "    \"Гарний вибір теми 😎 \"\n",
    "]\n",
    "\n",
    "def gcd():\n",
    "    global chat_history\n",
    "    while True:\n",
    "        a = input(\"Введіть перше число: \")\n",
    "\n",
    "        if a.lower() == 'вихід':\n",
    "            save_chat_to_file(chat_history)\n",
    "            return\n",
    "        elif a.lower() == 'назад':\n",
    "            chat_history.append(f\"USER : {a}\")\n",
    "            return\n",
    "\n",
    "        b = input(\"Введіть друге число: \")\n",
    "\n",
    "        if b.lower() == 'вихід':\n",
    "            return\n",
    "        elif b.lower() == 'назад':\n",
    "            chat_history.append(f\"USER : {b}\")\n",
    "            return\n",
    "\n",
    "        if a.isdigit() and b.isdigit():\n",
    "            a = int(a)\n",
    "            b = int(b)\n",
    "            result = math.gcd(a, b)\n",
    "\n",
    "            chat_history.append(f\"USER : {a}\")\n",
    "            chat_history.append(f\"USER : {b}\")\n",
    "            show_message(f\"НСД({a}, {b}) = {result}\", \"green\")\n",
    "            return\n",
    "        else:\n",
    "            chat_history.append(f\"USER : {a}\")\n",
    "            chat_history.append(f\"USER : {b}\")\n",
    "            show_message(\"Сталася помилка, некоректний формат даних! Спробуйте ще раз.\", \"red\")\n",
    "\n",
    "def lcm():\n",
    "    global chat_history\n",
    "    while True:\n",
    "        a = input(\"Введіть перше число: \")\n",
    "\n",
    "        if a.lower() == 'вихід':\n",
    "            return\n",
    "        elif a.lower() == 'назад':\n",
    "            chat_history.append(f\"USER : {a}\")\n",
    "            return\n",
    "\n",
    "        b = input(\"Введіть друге число: \")\n",
    "\n",
    "        if b.lower() == 'вихід':\n",
    "            save_chat_to_file(chat_history)\n",
    "            return\n",
    "        elif b.lower() == 'назад':\n",
    "            chat_history.append(f\"USER : {b}\")\n",
    "            return\n",
    "\n",
    "        if a.isdigit() and b.isdigit():\n",
    "            a = int(a)\n",
    "            b = int(b)\n",
    "            gcd_ab = math.gcd(a, b)\n",
    "            result = a * b // gcd_ab\n",
    "\n",
    "            chat_history.append(f\"USER : {a}\")\n",
    "            chat_history.append(f\"USER : {b}\")\n",
    "            show_message(f\"НОК({a}, {b}) = {result}\", \"green\")\n",
    "            return\n",
    "        else:\n",
    "            chat_history.append(f\"USER : {a}\")\n",
    "            chat_history.append(f\"USER : {b}\")\n",
    "            show_message(\"Сталася помилка, некоректний формат даних! Спробуйте ще раз.\", \"red\")\n",
    "\n",
    "def circle_area():\n",
    "    global chat_history\n",
    "    while True:\n",
    "        r = input(\"Введіть радіус круга: \")\n",
    "\n",
    "        if r.lower() == 'вихід':\n",
    "            save_chat_to_file(chat_history)\n",
    "            return\n",
    "        elif r.lower() == 'назад':\n",
    "            chat_history.append(f\"USER : {r}\")\n",
    "            return\n",
    "\n",
    "        if r.ifloat():  \n",
    "            r = float(r)\n",
    "            area = math.pi * r ** 2\n",
    "\n",
    "            chat_history.append(f\"USER : {r}\")\n",
    "            show_message(f\"Площа круга з радіусом {r} = {area}\", \"green\")\n",
    "            return\n",
    "        else:\n",
    "            chat_history.append(f\"USER : {r}\")\n",
    "            show_message(\"Сталася помилка, некоректний формат даних! Спробуйте ще раз.\", \"red\")\n",
    "\n",
    "\n",
    "def fibonacci():\n",
    "    global chat_history\n",
    "    while True:\n",
    "        n = input(\"Введіть число n для знаходження n-го числа Фібоначчі: \")\n",
    "\n",
    "        if n.lower() == 'вихід':\n",
    "            save_chat_to_file(chat_history)\n",
    "            return\n",
    "        elif n.lower() == 'назад':\n",
    "            chat_history.append(f\"USER : {n}\")\n",
    "            return\n",
    "\n",
    "        if n.isdigit() and int(n) >= 0:\n",
    "            n = int(n)\n",
    "            phi = (1 + math.sqrt(5)) / 2\n",
    "            psi = (1 - math.sqrt(5)) / 2\n",
    "            result = int((1 / math.sqrt(5)) * (math.pow(phi, n) - math.pow(psi, n)))\n",
    "            chat_history.append(f\"USER : {n}\")\n",
    "            show_message(f\"{n}-е число Фібоначчі = {result}\", \"green\")\n",
    "            return\n",
    "        else:\n",
    "            chat_history.append(f\"USER : {n}\")\n",
    "            show_message(\"Сталася помилка, некоректний формат даних! Спробуйте ще раз.\", \"red\")\n",
    "            \n",
    "            \n",
    "def ohms_law():\n",
    "    global chat_history\n",
    "    while True:\n",
    "        parameter = input(\"Виберіть параметр для обчислення (U - напруга, I - сила струму, R - опір) або введіть 'вихід': \")\n",
    "\n",
    "        if parameter.lower() == 'вихід':\n",
    "            save_chat_to_file(chat_history)\n",
    "            return\n",
    "        elif parameter.lower() == 'назад':\n",
    "            chat_history.append(f\"USER : {parameter}\")\n",
    "            return\n",
    "\n",
    "        if parameter.upper() in ('U', 'I', 'R'):\n",
    "            if parameter.upper() == 'U':\n",
    "                current = float(input(\"Введіть силу струму (I) в амперах: \"))\n",
    "                resistance = float(input(\"Введіть опір (R) в омах: \"))\n",
    "                voltage = current * resistance\n",
    "                show_message(f\"Напруга (U) = I * R = {current} A * {resistance} Ом = {voltage} В\", \"green\")\n",
    "\n",
    "            elif parameter.upper() == 'I':\n",
    "                voltage = float(input(\"Введіть напругу (U) в вольтах: \"))\n",
    "                resistance = float(input(\"Введіть опір (R) в омах: \"))\n",
    "                current = voltage / resistance\n",
    "                show_message(f\"Сила струму (I) = U / R = {voltage} В / {resistance} Ом = {current} A\", \"green\")\n",
    "\n",
    "            elif parameter.upper() == 'R':\n",
    "                voltage = float(input(\"Введіть напругу (U) в вольтах: \"))\n",
    "                current = float(input(\"Введіть силу струму (I) в амперах: \"))\n",
    "                resistance = voltage / current\n",
    "                show_message(f\"Опір (R) = U / I = {voltage} В / {current} A = {resistance} Ом\", \"green\")\n",
    "\n",
    "            chat_history.append(f\"USER : {parameter}\")\n",
    "            chat_history.append(f\"USER : {voltage}\")\n",
    "            chat_history.append(f\"USER : {current}\")\n",
    "            chat_history.append(f\"USER : {resistance}\")\n",
    "\n",
    "            return\n",
    "        else:\n",
    "            chat_history.append(f\"USER : {parameter}\")\n",
    "            show_message(\"Сталася помилка, некоректний формат даних! Спробуйте ще раз.\", \"red\")\n"
   ]
  },
  {
   "cell_type": "code",
   "execution_count": 342,
   "id": "8c3854a7",
   "metadata": {},
   "outputs": [],
   "source": [
    "#ЧАСТИНА, ЯКУ МОЖНА РЕДАГУВАТИ (ЗАГАЛЬНА СТРУКТУРА ПІДТЕМ)\n",
    "\n",
    "\n",
    "bot_name = \"Alex\"\n",
    "\n",
    "functions = {\n",
    "    \"математика\" : {\n",
    "        \"Найбільший спільний дільник\": gcd,\n",
    "        \"Найменше спільне кратне\": lcm,\n",
    "        \"Формула площі круга\": circle_area,\n",
    "        \"Вивести N-те число фіббоначі\": fibonacci\n",
    "    },\n",
    "    \"фізика\" : {\n",
    "        \"Формула закона Ома\" : ohms_law\n",
    "    }\n",
    "}\n",
    "topics_structure = {\n",
    "    \"фізика\": {\n",
    "        \"Формула закона Ома\": \"\"\n",
    "        },\n",
    "  \n",
    "    \"математика\": {\n",
    "        \"Найбільший спільний дільник\" : \"\",\n",
    "        \"Найменше спільне кратне\" : \"\",\n",
    "        \"Формула площі круга\" : \"\",\n",
    "        \"Вивести N-те число фіббоначі\" : \"\",\n",
    "    },\n",
    "    \"географія\": {\n",
    "        \"Які держави мають найбільшу кількість кордонів з іншими державами?\": \"Країни, які мають більше 8 спільних кордонів із іншими державами: Росія, Китай, Німеччина, Франція, Україна, Іспанія, Польща, Фінляндія.\",\n",
    "        \"Яка держава має найбільшу кількість озер в світі?\": \"Державою з найбільшою кількістю озер в світі є Канада. На її території налічується близько 3 мільйонів озер, що становить близько 10% всіх озер на Землі.\",\n",
    "    },\n",
    "    \"філологія\": {\n",
    "        \"Як утворюються питальні речення в англійській мові?\": \"Питальні речення утворюються зміною порядку слів або за допомогою питальних слів.\",\n",
    "        \"Як утворити Passive Voice в Present Simple?\": \"Пасивна форма в Present Simple утворюється за допомогою допоміжного дієслова 'to be' та третьої форми головного дієслова.\"\n",
    "    },\n",
    "    \"астрономія\": {\n",
    "        \"Які типи зір відомі в астрономії?\": \"В астрономії відомі різні типи зірок, такі як червоні карлики, білі карлики, гіганти та супергіганти.\",\n",
    "        \"Що таке астероїди та комети?\": \"Астероїди – це космічні об'єкти, зазвичай невеликого розміру, що рухаються навколо Сонця. Комети - це крижані тіла, які також рухаються орбітами навколо Сонця і можуть мати довгі хвости з пилу і газу, коли вони наближаються до Сонця.\",\n",
    "    },\n",
    "    \"загальні\": {\n",
    "        \"Скільки днів у __ році?\": \"Вывести количество дней в 2016 году\",\n",
    "        \"Як тебе звати?\" : \"Я - бот, створений для того, щоб комунікувати з тобою з питань навчання, а звати мене \" + bot_name\n",
    "    }\n",
    "}"
   ]
  },
  {
   "cell_type": "code",
   "execution_count": 343,
   "id": "9ae73f91",
   "metadata": {},
   "outputs": [
    {
     "data": {
      "text/html": [
       "<span style='color:green'>Привіт! Вітаю, мене звати Alex. Ви можете задати мені питання з наступних тем: фізика, математика, географія, філологія, астрономія, загальні</span>"
      ],
      "text/plain": [
       "<IPython.core.display.HTML object>"
      ]
     },
     "metadata": {},
     "output_type": "display_data"
    },
    {
     "name": "stdout",
     "output_type": "stream",
     "text": [
      "Вибери тему (фізика, математика, географія, філологія, астрономія, загальні) чи введи 'вихід' для завершення : математика\n"
     ]
    },
    {
     "data": {
      "text/html": [
       "<span style='color:green'>Супер! Я також люблю цю тему! 😍  Ви обрали тему математика. Ви можете задати мені питання з наступних підтем:</span>"
      ],
      "text/plain": [
       "<IPython.core.display.HTML object>"
      ]
     },
     "metadata": {},
     "output_type": "display_data"
    },
    {
     "data": {
      "text/html": [
       "<span style='color:green'>- Найбільший спільний дільник</span>"
      ],
      "text/plain": [
       "<IPython.core.display.HTML object>"
      ]
     },
     "metadata": {},
     "output_type": "display_data"
    },
    {
     "data": {
      "text/html": [
       "<span style='color:green'>- Найменше спільне кратне</span>"
      ],
      "text/plain": [
       "<IPython.core.display.HTML object>"
      ]
     },
     "metadata": {},
     "output_type": "display_data"
    },
    {
     "data": {
      "text/html": [
       "<span style='color:green'>- Формула площі круга</span>"
      ],
      "text/plain": [
       "<IPython.core.display.HTML object>"
      ]
     },
     "metadata": {},
     "output_type": "display_data"
    },
    {
     "data": {
      "text/html": [
       "<span style='color:green'>- Вивести N-те число фіббоначі</span>"
      ],
      "text/plain": [
       "<IPython.core.display.HTML object>"
      ]
     },
     "metadata": {},
     "output_type": "display_data"
    },
    {
     "name": "stdout",
     "output_type": "stream",
     "text": [
      "Обери підтему із наведених:назад\n",
      "Вибери тему (фізика, математика, географія, філологія, астрономія, загальні) чи введи 'вихід' для завершення : фізика\n"
     ]
    },
    {
     "data": {
      "text/html": [
       "<span style='color:green'>Цікавий вибір!  Ви обрали тему фізика. Ви можете задати мені питання з наступних підтем:</span>"
      ],
      "text/plain": [
       "<IPython.core.display.HTML object>"
      ]
     },
     "metadata": {},
     "output_type": "display_data"
    },
    {
     "data": {
      "text/html": [
       "<span style='color:green'>- Формула закона Ома</span>"
      ],
      "text/plain": [
       "<IPython.core.display.HTML object>"
      ]
     },
     "metadata": {},
     "output_type": "display_data"
    },
    {
     "name": "stdout",
     "output_type": "stream",
     "text": [
      "Обери підтему із наведених:Формула закона Ома\n",
      "Виберіть параметр для обчислення (U - напруга, I - сила струму, R - опір) або введіть 'вихід': U\n",
      "Введіть силу струму (I) в амперах: 12\n",
      "Введіть опір (R) в омах: 23\n"
     ]
    },
    {
     "data": {
      "text/html": [
       "<span style='color:green'>Напруга (U) = I * R = 12.0 A * 23.0 Ом = 276.0 В</span>"
      ],
      "text/plain": [
       "<IPython.core.display.HTML object>"
      ]
     },
     "metadata": {},
     "output_type": "display_data"
    },
    {
     "data": {
      "text/html": [
       "<span style='color:green'>Що ще ти хочеш дізнатися з теми фізика? Доступні підтеми:</span>"
      ],
      "text/plain": [
       "<IPython.core.display.HTML object>"
      ]
     },
     "metadata": {},
     "output_type": "display_data"
    },
    {
     "data": {
      "text/html": [
       "<span style='color:green'>- Формула закона Ома</span>"
      ],
      "text/plain": [
       "<IPython.core.display.HTML object>"
      ]
     },
     "metadata": {},
     "output_type": "display_data"
    },
    {
     "name": "stdout",
     "output_type": "stream",
     "text": [
      "Формула закона Ома\n",
      "Виберіть параметр для обчислення (U - напруга, I - сила струму, R - опір) або введіть 'вихід': I\n",
      "Введіть напругу (U) в вольтах: 12\n",
      "Введіть опір (R) в омах: 34\n"
     ]
    },
    {
     "data": {
      "text/html": [
       "<span style='color:green'>Сила струму (I) = U / R = 12.0 В / 34.0 Ом = 0.35294117647058826 A</span>"
      ],
      "text/plain": [
       "<IPython.core.display.HTML object>"
      ]
     },
     "metadata": {},
     "output_type": "display_data"
    },
    {
     "data": {
      "text/html": [
       "<span style='color:green'>Що ще ти хочеш дізнатися з теми фізика? Доступні підтеми:</span>"
      ],
      "text/plain": [
       "<IPython.core.display.HTML object>"
      ]
     },
     "metadata": {},
     "output_type": "display_data"
    },
    {
     "data": {
      "text/html": [
       "<span style='color:green'>- Формула закона Ома</span>"
      ],
      "text/plain": [
       "<IPython.core.display.HTML object>"
      ]
     },
     "metadata": {},
     "output_type": "display_data"
    },
    {
     "name": "stdout",
     "output_type": "stream",
     "text": [
      "назад\n"
     ]
    },
    {
     "data": {
      "text/html": [
       "<span style='color:green'>Ви обрали тему фізика. Ви можете задати мені питання з наступних підтем:</span>"
      ],
      "text/plain": [
       "<IPython.core.display.HTML object>"
      ]
     },
     "metadata": {},
     "output_type": "display_data"
    },
    {
     "data": {
      "text/html": [
       "<span style='color:green'>- Формула закона Ома</span>"
      ],
      "text/plain": [
       "<IPython.core.display.HTML object>"
      ]
     },
     "metadata": {},
     "output_type": "display_data"
    },
    {
     "name": "stdout",
     "output_type": "stream",
     "text": [
      "Обери підтему із наведених:назад\n",
      "Вибери тему (фізика, математика, географія, філологія, астрономія, загальні) чи введи 'вихід' для завершення : філологія\n"
     ]
    },
    {
     "data": {
      "text/html": [
       "<span style='color:green'>Чудово!  Ви обрали тему філологія. Ви можете задати мені питання з наступних підтем:</span>"
      ],
      "text/plain": [
       "<IPython.core.display.HTML object>"
      ]
     },
     "metadata": {},
     "output_type": "display_data"
    },
    {
     "data": {
      "text/html": [
       "<span style='color:green'>- Як утворюються питальні речення в англійській мові?</span>"
      ],
      "text/plain": [
       "<IPython.core.display.HTML object>"
      ]
     },
     "metadata": {},
     "output_type": "display_data"
    },
    {
     "data": {
      "text/html": [
       "<span style='color:green'>- Як утворити Passive Voice в Present Simple?</span>"
      ],
      "text/plain": [
       "<IPython.core.display.HTML object>"
      ]
     },
     "metadata": {},
     "output_type": "display_data"
    },
    {
     "name": "stdout",
     "output_type": "stream",
     "text": [
      "Обери підтему із наведених:допомога\n"
     ]
    },
    {
     "data": {
      "text/html": [
       "<span style='color:purple'>Ви обрали операцію: філологія. Для виходу, напишіть «вихід». Для повернення до останньої теми напишіть «назад».</span>"
      ],
      "text/plain": [
       "<IPython.core.display.HTML object>"
      ]
     },
     "metadata": {},
     "output_type": "display_data"
    },
    {
     "name": "stdout",
     "output_type": "stream",
     "text": [
      "Обери підтему із наведених:вихід\n"
     ]
    }
   ],
   "source": [
    "topic_names = list(topics_structure.keys())\n",
    "topics_string = ', '.join(topic_names)\n",
    "\n",
    "#Історія чату\n",
    "chat_history = [] \n",
    "\n",
    "\n",
    "from IPython.display import HTML, display\n",
    "\n",
    "bot_name = \"Alex\"\n",
    "\n",
    "#Кольоровий вивід\n",
    "def show_message(message, color):\n",
    "    chat_history.append(f\"BOT : {message}\")\n",
    "    message = f\"<span style='color:{color}'>{message}</span>\"\n",
    "    display(HTML(message))\n",
    "\n",
    "def show_help(current_topic, current_subtopic):\n",
    "    message = f\"<span style='color:purple'>Ви обрали операцію: {current_topic}\"\n",
    "    if current_subtopic:\n",
    "        message += f\" -> {current_subtopic}\"\n",
    "    message += \". Для виходу, напишіть «вихід». Для повернення до останньої теми напишіть «назад».</span>\"\n",
    "    display(HTML(message))\n",
    "\n",
    "def handle_subtopic(current_topic, current_subtopic):\n",
    "    if current_subtopic in functions.get(current_topic, {}):\n",
    "        function = functions[current_topic][current_subtopic]\n",
    "        function()\n",
    "    else:\n",
    "        show_message(\"Я не знаю, що відповісти.\", \"red\")\n",
    "    \n",
    "    \n",
    "def save_chat_to_file(chat_history):\n",
    "    now = datetime.datetime.now()\n",
    "    file_name = f\"dialog-{now.strftime('%Y-%m-%d_%H-%M-%S')}.txt\"\n",
    "\n",
    "    with open(file_name, 'w', encoding='utf-8') as file:\n",
    "        for message in chat_history:\n",
    "            file.write(message + '\\n')\n",
    "    \n",
    "def main():\n",
    "    show_message(f\"Привіт! Вітаю, мене звати {bot_name}. Ви можете задати мені питання з наступних тем: {topics_string}\", \"green\")\n",
    "    current_topic = None  \n",
    "    current_subtopic = None \n",
    "\n",
    "    while True:\n",
    "        if current_topic is None:\n",
    "            user_topic = input(f\"Вибери тему ({topics_string}) чи введи 'вихід' для завершення : \")\n",
    "            chat_history.append(f\"USER : {user_topic}\")\n",
    "            if user_topic == \"вихід\":\n",
    "                save_chat_to_file(chat_history)\n",
    "                break\n",
    "            if user_topic in topics_structure:\n",
    "                current_topic = user_topic\n",
    "                \n",
    "                random_comment = random.choice(comments)\n",
    "                show_message(f\"{random_comment} Ви обрали тему {current_topic}. Ви можете задати мені питання з наступних підтем:\", \"green\")\n",
    "                subtopics = list(topics_structure[current_topic].keys())\n",
    "                for subtopic in subtopics:\n",
    "                    show_message(f\"- {subtopic}\", \"green\")\n",
    "            elif user_topic == \"допомога\":\n",
    "                show_help(current_topic, current_subtopic)\n",
    "            else:\n",
    "                show_message(f\"Я не знаю цієї теми, натомість, ви можете задати мені питання з наступних тем: {topics_string}\", \"red\")\n",
    "        elif current_subtopic is None:\n",
    "            user_subtopic = input(\"Обери підтему із наведених:\")\n",
    "            chat_history.append(f\"USER : {user_subtopic}\")\n",
    "            if user_subtopic == \"назад\":\n",
    "                current_topic = None\n",
    "            elif user_subtopic == \"вихід\":\n",
    "                save_chat_to_file(chat_history)\n",
    "                break\n",
    "            elif user_subtopic in topics_structure[current_topic]:\n",
    "                current_subtopic = user_subtopic\n",
    "                if current_subtopic in functions.get(current_topic, {}):\n",
    "                    function = functions[current_topic][current_subtopic]\n",
    "                    function()\n",
    "            elif user_subtopic == \"допомога\":\n",
    "                show_help(current_topic, None)\n",
    "            else:\n",
    "                show_message(f\"Я не знаю цієї теми, натомість, ви можете розглянути доступні підтеми з теми {current_topic}:\", \"red\")\n",
    "                for subtopic in subtopics:\n",
    "                    show_message(f\"- {subtopic}\", \"green\")\n",
    "        else:\n",
    "            if current_subtopic not in functions.get(current_topic, {}):\n",
    "                show_message(topics_structure[current_topic][current_subtopic], \"green\")\n",
    "            \n",
    "            subtopics = list(topics_structure[current_topic].keys())\n",
    "            show_message(f\"Що ще ти хочеш дізнатися з теми {current_topic}? Доступні підтеми:\", \"green\")\n",
    "            \n",
    "            for subtopic in subtopics:\n",
    "                show_message(f\"- {subtopic}\", \"green\")\n",
    "            \n",
    "            user_response = input()\n",
    "            \n",
    "            chat_history.append(f\"USER : {current_topic}\")\n",
    "            \n",
    "            if user_response == \"назад\":\n",
    "                current_subtopic = None\n",
    "                show_message(f\"Ви обрали тему {current_topic}. Ви можете задати мені питання з наступних підтем:\", \"green\")\n",
    "                for subtopic in subtopics:\n",
    "                    show_message(f\"- {subtopic}\", \"green\")\n",
    "            elif user_response == \"вихід\":\n",
    "                save_chat_to_file(chat_history)\n",
    "                break\n",
    "            elif user_response == \"допомога\":\n",
    "                show_help(current_topic, current_subtopic)\n",
    "            else:\n",
    "                current_subtopic = user_response\n",
    "                handle_subtopic(current_topic, current_subtopic)\n",
    "            \n",
    "if __name__ == \"__main__\":\n",
    "    main()"
   ]
  },
  {
   "cell_type": "code",
   "execution_count": 340,
   "id": "fa9dfccf",
   "metadata": {},
   "outputs": [
    {
     "data": {
      "text/plain": [
       "['BOT : Привіт! Вітаю, мене звати Alex. Ви можете задати мені питання з наступних тем: фізика, математика, географія, філологія, астрономія, загальні',\n",
       " 'USER : математика',\n",
       " 'BOT : Чудово!  Ви обрали тему математика. Ви можете задати мені питання з наступних підтем:',\n",
       " 'BOT : - Найбільший спільний дільник',\n",
       " 'BOT : - Найменше спільне кратне',\n",
       " 'BOT : - Формула площі круга',\n",
       " 'BOT : - Вивести N-те число фіббоначі',\n",
       " 'USER : вихід']"
      ]
     },
     "execution_count": 340,
     "metadata": {},
     "output_type": "execute_result"
    }
   ],
   "source": [
    "chat_history"
   ]
  },
  {
   "cell_type": "code",
   "execution_count": null,
   "id": "05f41135",
   "metadata": {},
   "outputs": [],
   "source": []
  },
  {
   "cell_type": "code",
   "execution_count": null,
   "id": "88a52c18",
   "metadata": {},
   "outputs": [],
   "source": []
  },
  {
   "cell_type": "code",
   "execution_count": null,
   "id": "3a912924",
   "metadata": {},
   "outputs": [],
   "source": []
  },
  {
   "cell_type": "code",
   "execution_count": null,
   "id": "41ba95ce",
   "metadata": {},
   "outputs": [],
   "source": []
  },
  {
   "cell_type": "code",
   "execution_count": null,
   "id": "b8387203",
   "metadata": {},
   "outputs": [],
   "source": []
  },
  {
   "cell_type": "code",
   "execution_count": null,
   "id": "56e11592",
   "metadata": {},
   "outputs": [],
   "source": []
  },
  {
   "cell_type": "code",
   "execution_count": null,
   "id": "8d553075",
   "metadata": {},
   "outputs": [],
   "source": []
  },
  {
   "cell_type": "code",
   "execution_count": null,
   "id": "7deb67c9",
   "metadata": {},
   "outputs": [],
   "source": []
  }
 ],
 "metadata": {
  "kernelspec": {
   "display_name": "Python 3",
   "language": "python",
   "name": "python3"
  },
  "language_info": {
   "codemirror_mode": {
    "name": "ipython",
    "version": 3
   },
   "file_extension": ".py",
   "mimetype": "text/x-python",
   "name": "python",
   "nbconvert_exporter": "python",
   "pygments_lexer": "ipython3",
   "version": "3.8.10"
  }
 },
 "nbformat": 4,
 "nbformat_minor": 5
}
